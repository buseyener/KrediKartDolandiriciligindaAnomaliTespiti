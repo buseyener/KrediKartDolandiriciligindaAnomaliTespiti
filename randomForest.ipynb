{
 "cells": [
  {
   "cell_type": "code",
   "execution_count": 2,
   "id": "7e16ecd9-ff7f-445d-ba14-73be2e6385f9",
   "metadata": {},
   "outputs": [
    {
     "name": "stdout",
     "output_type": "stream",
     "text": [
      "Random Forest Performansı:\n",
      "Accuracy: 0.9998\n",
      "Precision: 0.9999\n",
      "Recall: 0.9997\n",
      "F1 Skoru: 0.9998\n",
      "Model başarıyla kaydedildi!\n"
     ]
    }
   ],
   "source": [
    "import pandas as pd\n",
    "from sklearn.model_selection import train_test_split\n",
    "from sklearn.ensemble import RandomForestClassifier\n",
    "from sklearn.metrics import accuracy_score, precision_score, recall_score, f1_score\n",
    "from sklearn.preprocessing import StandardScaler\n",
    "import joblib  # Modeli kaydetmek için gerekli kütüphane\n",
    "\n",
    "# Veri setini yükle\n",
    "data_path = r\"C:\\\\Users\\\\Buse Yener\\\\big_data\\\\standardized_data.csv\"  # CSV dosyasının yolu\n",
    "data = pd.read_csv(data_path)\n",
    "\n",
    "# Bağımsız ve bağımlı değişkenler\n",
    "X = data.drop('Class', axis=1)\n",
    "y = data['Class']\n",
    "\n",
    "# Veriyi eğitim ve test setlerine ayır\n",
    "X_train, X_test, y_train, y_test = train_test_split(X, y, test_size=0.2, random_state=42)\n",
    "\n",
    "# Veriyi standardize et\n",
    "scaler = StandardScaler()\n",
    "X_train_scaled = scaler.fit_transform(X_train)\n",
    "X_test_scaled = scaler.transform(X_test)\n",
    "\n",
    "# Random Forest Modeli\n",
    "rf_model = RandomForestClassifier(random_state=42)\n",
    "rf_model.fit(X_train_scaled, y_train)\n",
    "\n",
    "# Test seti üzerinde tahminler\n",
    "y_pred_rf = rf_model.predict(X_test_scaled)\n",
    "\n",
    "# Performans metriklerini hesapla\n",
    "def evaluate_model(y_true, y_pred):\n",
    "    accuracy = accuracy_score(y_true, y_pred)\n",
    "    precision = precision_score(y_true, y_pred)\n",
    "    recall = recall_score(y_true, y_pred)\n",
    "    f1 = f1_score(y_true, y_pred)\n",
    "    return accuracy, precision, recall, f1\n",
    "\n",
    "# Random Forest metrikleri\n",
    "rf_metrics = evaluate_model(y_test, y_pred_rf)\n",
    "print(\"Random Forest Performansı:\")\n",
    "print(f\"Accuracy: {rf_metrics[0]:.4f}\")\n",
    "print(f\"Precision: {rf_metrics[1]:.4f}\")\n",
    "print(f\"Recall: {rf_metrics[2]:.4f}\")\n",
    "print(f\"F1 Skoru: {rf_metrics[3]:.4f}\")\n",
    "\n",
    "# Modeli kaydet\n",
    "joblib.dump(rf_model, 'random_forest_model.pkl')\n",
    "print(\"Model başarıyla kaydedildi!\")\n"
   ]
  },
  {
   "cell_type": "code",
   "execution_count": null,
   "id": "367218d8-7174-418e-aa07-795889c0ddfa",
   "metadata": {},
   "outputs": [],
   "source": []
  }
 ],
 "metadata": {
  "kernelspec": {
   "display_name": "Python 3 (ipykernel)",
   "language": "python",
   "name": "python3"
  },
  "language_info": {
   "codemirror_mode": {
    "name": "ipython",
    "version": 3
   },
   "file_extension": ".py",
   "mimetype": "text/x-python",
   "name": "python",
   "nbconvert_exporter": "python",
   "pygments_lexer": "ipython3",
   "version": "3.12.2"
  }
 },
 "nbformat": 4,
 "nbformat_minor": 5
}
